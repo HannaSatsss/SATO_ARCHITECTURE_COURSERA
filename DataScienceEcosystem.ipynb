{
  "metadata": {
    "kernelspec": {
      "name": "python",
      "display_name": "Python (Pyodide)",
      "language": "python"
    },
    "language_info": {
      "codemirror_mode": {
        "name": "python",
        "version": 3
      },
      "file_extension": ".py",
      "mimetype": "text/x-python",
      "name": "python",
      "nbconvert_exporter": "python",
      "pygments_lexer": "ipython3",
      "version": "3.8"
    }
  },
  "nbformat_minor": 5,
  "nbformat": 4,
  "cells": [
    {
      "id": "74d7af72-7a05-4b7b-b7de-eef12d4f11b7",
      "cell_type": "markdown",
      "source": "# Data Science Tools and Ecosystem",
      "metadata": {}
    },
    {
      "id": "3917efb8-fc83-4fa6-9dbc-3e1efe0a21b1",
      "cell_type": "markdown",
      "source": "In this notebook, Data Science Tools and Ecosystem are summarized.",
      "metadata": {}
    },
    {
      "id": "70d406fc-7a65-427f-aa37-094581e3f7cd",
      "cell_type": "markdown",
      "source": "Some of the popular languages that Data Scientists use are:\n1. Python\n2. R\n3. SQL\n4. Scala\n5. Julia",
      "metadata": {}
    },
    {
      "id": "f15ad3ca-b0dc-4b0f-bb99-4831032f89c0",
      "cell_type": "markdown",
      "source": "Some of the commonly used libraries used by Data Scientists include:\n1. NumPy\n2. Pandas\n3. Matplotlib",
      "metadata": {}
    },
    {
      "id": "18f5db12-5971-4307-8ac2-e46dd675dfd6",
      "cell_type": "markdown",
      "source": "| Data Science Tools         |\n|---------------------------|\n| Jupyter Notebook          |\n| RStudio                   |\n| Visual Studio Code        |",
      "metadata": {}
    },
    {
      "id": "3018b52a-ca4e-495f-a934-6e747182c741",
      "cell_type": "markdown",
      "source": "### Below are a few examples of evaluating arithmetic expressions in Python.",
      "metadata": {}
    },
    {
      "id": "b8ebb620-9a3a-41b1-a145-af3965b02877",
      "cell_type": "code",
      "source": "#This a simple arithmetic expression to mutiply then add integers.\n(3*4)+5.",
      "metadata": {
        "trusted": true
      },
      "outputs": [
        {
          "execution_count": 2,
          "output_type": "execute_result",
          "data": {
            "text/plain": "17.0"
          },
          "metadata": {}
        }
      ],
      "execution_count": 2
    },
    {
      "id": "cf10bde7-9dae-4856-80a1-7125fcb2c6eb",
      "cell_type": "code",
      "source": "# This will convert 200 minutes to hours by dividing by 60\n200 / 60",
      "metadata": {
        "trusted": true
      },
      "outputs": [
        {
          "execution_count": 3,
          "output_type": "execute_result",
          "data": {
            "text/plain": "3.3333333333333335"
          },
          "metadata": {}
        }
      ],
      "execution_count": 3
    },
    {
      "id": "30b875b3-8fe9-4f67-88e8-302ee8ee07d0",
      "cell_type": "markdown",
      "source": "**Objectives:**\n\n- List popular languages for Data Science  \n- Identify commonly used libraries in Data Science  \n- Demonstrate basic arithmetic expressions in Python  \n- Convert units using Python code (e.g., minutes to hours)  \n- Create and format markdown cells in Jupyter Notebooks  ",
      "metadata": {}
    },
    {
      "id": "b889b234-c345-4e27-8745-ed0ec1bb1c96",
      "cell_type": "markdown",
      "source": "## Author\nHanna Keziah T. Sato",
      "metadata": {}
    }
  ]
}